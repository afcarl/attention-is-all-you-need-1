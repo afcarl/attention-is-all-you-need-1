{
 "cells": [
  {
   "cell_type": "code",
   "execution_count": 7,
   "metadata": {},
   "outputs": [],
   "source": [
    "import math\n",
    "import torch \n",
    "import torch.nn as nn\n",
    "from torch import optim\n",
    "import torch.nn.functional as F\n",
    "from torch.autograd import Variable"
   ]
  },
  {
   "cell_type": "code",
   "execution_count": 8,
   "metadata": {},
   "outputs": [],
   "source": [
    "device = torch.device(\"cuda\" if torch.cuda.is_available() else \"cpu\")"
   ]
  },
  {
   "cell_type": "code",
   "execution_count": 9,
   "metadata": {},
   "outputs": [],
   "source": [
    "# constants\n",
    "N = 6 # Number of layers\n",
    "d_model = 512 # dimension of Sublayer o/p,embedding layer o/p\n",
    "h = 8 # number of head for multi head attention\n",
    "dk = d_model/h\n",
    "dv = d_model/h"
   ]
  },
  {
   "cell_type": "markdown",
   "metadata": {},
   "source": [
    "# Layer Norm"
   ]
  },
  {
   "cell_type": "code",
   "execution_count": 43,
   "metadata": {},
   "outputs": [],
   "source": [
    "class layer_norm(nn.Module):\n",
    "    def __init__(self,n_f,eps=1e-9):\n",
    "        super().__init__()\n",
    "        self.eps = eps\n",
    "        self.gamma = nn.Parameter(torch.ones(n_f))\n",
    "        self.beta = nn.Parameter(torch.zeros(n_f))\n",
    "    \n",
    "    def forward(self,inputs):\n",
    "        mean = torch.mean(inputs,-1,keepdim=True)\n",
    "        std = torch.mean(inputs,-1,keepdim=True)\n",
    "        nm = (inputs - mean)/(std + self.eps)\n",
    "        return (nm * self.gamma) + self.beta"
   ]
  },
  {
   "cell_type": "markdown",
   "metadata": {},
   "source": [
    "### Testing"
   ]
  },
  {
   "cell_type": "code",
   "execution_count": 44,
   "metadata": {},
   "outputs": [
    {
     "data": {
      "text/plain": [
       "torch.Size([64, 20, 512])"
      ]
     },
     "execution_count": 44,
     "metadata": {},
     "output_type": "execute_result"
    }
   ],
   "source": [
    "a = torch.FloatTensor(64,20,512)\n",
    "model = layer_norm(a.size()[2])\n",
    "c = model(a)\n",
    "c.size()"
   ]
  },
  {
   "cell_type": "markdown",
   "metadata": {},
   "source": [
    "# Scaled Dot Product Attention"
   ]
  },
  {
   "cell_type": "code",
   "execution_count": 45,
   "metadata": {},
   "outputs": [],
   "source": [
    "class scaled_dot_product_attention(nn.Module):\n",
    "    def __init__(self,dk=64,dv=64): # multi = True tells if the input to the layer will be multi headed or not\n",
    "        super().__init__()\n",
    "        self.dk = dk\n",
    "        self.dv = dv\n",
    "        \n",
    "    def forward(self,q,k,v):\n",
    "        return torch.matmul(F.softmax(torch.matmul(q,k.permute(0,2,1))/math.sqrt(self.dk),2),v)     \n",
    "        "
   ]
  },
  {
   "cell_type": "markdown",
   "metadata": {},
   "source": [
    "### Testing"
   ]
  },
  {
   "cell_type": "code",
   "execution_count": 46,
   "metadata": {},
   "outputs": [
    {
     "data": {
      "text/plain": [
       "torch.Size([64, 20, 64])"
      ]
     },
     "execution_count": 46,
     "metadata": {},
     "output_type": "execute_result"
    }
   ],
   "source": [
    "a = torch.FloatTensor(64,20,64)\n",
    "model = scaled_dot_product_attention()\n",
    "out = model(a,a,a)\n",
    "out.size()"
   ]
  },
  {
   "cell_type": "code",
   "execution_count": 47,
   "metadata": {},
   "outputs": [],
   "source": [
    "# utility module\n",
    "\n",
    "class linear_activated(nn.Module):\n",
    "    def __init__(self,in_out, activation = nn.ReLU, split = None):\n",
    "        super().__init__()\n",
    "        self.linear = nn.Linear(*in_out)\n",
    "        self.activation = activation()\n",
    "        self.split = split\n",
    "        \n",
    "    def forward(self,inputs):\n",
    "        if self.split is not None:\n",
    "            return self.activation(self.linear(inputs)).chunk(self.split,dim=2)\n",
    "        else:\n",
    "            return self.activation(self.linear(inputs))\n",
    "        "
   ]
  },
  {
   "cell_type": "code",
   "execution_count": 48,
   "metadata": {},
   "outputs": [
    {
     "data": {
      "text/plain": [
       "torch.Size([64, 20, 64])"
      ]
     },
     "execution_count": 48,
     "metadata": {},
     "output_type": "execute_result"
    }
   ],
   "source": [
    "a = torch.FloatTensor(64,20,512)\n",
    "model = linear_activated((512,64))\n",
    "c = model(a)\n",
    "c.size()"
   ]
  },
  {
   "cell_type": "code",
   "execution_count": 49,
   "metadata": {},
   "outputs": [
    {
     "name": "stdout",
     "output_type": "stream",
     "text": [
      "torch.Size([64, 20, 512])\n",
      "torch.Size([64, 20, 512])\n",
      "torch.Size([64, 20, 512])\n"
     ]
    }
   ],
   "source": [
    "a = torch.FloatTensor(64,20,512)\n",
    "model = linear_activated((512,512 * 3),split=3)\n",
    "c = model(a)\n",
    "for i in c: print(i.size())"
   ]
  },
  {
   "cell_type": "markdown",
   "metadata": {},
   "source": [
    "# Multi-head attention"
   ]
  },
  {
   "cell_type": "code",
   "execution_count": 55,
   "metadata": {},
   "outputs": [],
   "source": [
    "class multi_head_attention(nn.Module):\n",
    "    \n",
    "    def __init__(self,h=8, dmodel=512, dk=64, dv=64, self_attention=False):\n",
    "        super().__init__()\n",
    "        self.self_attention = self_attention\n",
    "        # method 1 : when dk = dv, and k = v\n",
    "        # calculate projection of query, key and value at the same time\n",
    "        if self_attention == True:\n",
    "            self.linear_kqv = linear_activated((dmodel,dk * h * 3),split=3) \n",
    "        else:            \n",
    "            # method 2\n",
    "            # second dimension is multiplied by h to calculate all head simultaneously\n",
    "            self.linear_k = linear_activated((dmodel,dk * h)) \n",
    "            self.linear_q = linear_activated((dmodel,dk * h))\n",
    "            self.linear_v = linear_activated((dmodel,dv * h))\n",
    "            \n",
    "        self.linear_o = linear_activated((h*dv,dmodel))\n",
    "\n",
    "        self.sdpa = scaled_dot_product_attention(dk*h,dv*h)\n",
    "        \n",
    "    def forward(self,q,k,v):\n",
    "        if self.self_attention:\n",
    "            out_sdpa_multi_head = self.sdpa(*self.linear_kqv(k))\n",
    "        else:\n",
    "            out_sdpa_multi_head = self.sdpa(self.linear_k(k),self.linear_q(q),self.linear_v(v))\n",
    "        return self.linear_o(out_sdpa_multi_head)"
   ]
  },
  {
   "cell_type": "markdown",
   "metadata": {},
   "source": [
    "### Testing"
   ]
  },
  {
   "cell_type": "code",
   "execution_count": 54,
   "metadata": {},
   "outputs": [
    {
     "data": {
      "text/plain": [
       "torch.Size([64, 20, 512])"
      ]
     },
     "execution_count": 54,
     "metadata": {},
     "output_type": "execute_result"
    }
   ],
   "source": [
    "a = torch.FloatTensor(64,20,512)\n",
    "model = multi_head_attention()\n",
    "c = model(a,a,a)\n",
    "c.size()"
   ]
  },
  {
   "cell_type": "code",
   "execution_count": 56,
   "metadata": {},
   "outputs": [
    {
     "data": {
      "text/plain": [
       "torch.Size([64, 20, 512])"
      ]
     },
     "execution_count": 56,
     "metadata": {},
     "output_type": "execute_result"
    }
   ],
   "source": [
    "a = torch.FloatTensor(64,20,512)\n",
    "model = multi_head_attention(self_attention=True)\n",
    "c = model(a,a,a)\n",
    "c.size()"
   ]
  },
  {
   "cell_type": "code",
   "execution_count": null,
   "metadata": {},
   "outputs": [],
   "source": []
  }
 ],
 "metadata": {
  "kernelspec": {
   "display_name": "Python (torch04)",
   "language": "python",
   "name": "myenv"
  },
  "language_info": {
   "codemirror_mode": {
    "name": "ipython",
    "version": 3
   },
   "file_extension": ".py",
   "mimetype": "text/x-python",
   "name": "python",
   "nbconvert_exporter": "python",
   "pygments_lexer": "ipython3",
   "version": "3.6.3"
  }
 },
 "nbformat": 4,
 "nbformat_minor": 2
}
