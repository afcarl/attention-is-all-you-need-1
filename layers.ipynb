{
 "cells": [
  {
   "cell_type": "code",
   "execution_count": 2,
   "metadata": {},
   "outputs": [],
   "source": [
    "import math\n",
    "import torch \n",
    "import torch.nn as nn\n",
    "from torch import optim\n",
    "import torch.nn.functional as F\n",
    "from torch.autograd import Variable\n",
    "import pickle"
   ]
  },
  {
   "cell_type": "code",
   "execution_count": 3,
   "metadata": {},
   "outputs": [],
   "source": [
    "# constants\n",
    "N = 6 # Number of layers\n",
    "dmodel = 512 # dimension of Sublayer o/p,embedding layer o/p\n",
    "h = 8 # number of head for multi head attention\n",
    "dk = dmodel//h # dimension of key vector\n",
    "dv = dmodel//h # dimension of value vector\n",
    "dff = 2048 # dimension of feed forward network\n",
    "vocab_size_source = 10871 # vocab size of most frequent words from the dataset(english)\n",
    "vocab_size_target = 12478 # vocab size of most frequent words from the dataset(german)"
   ]
  },
  {
   "cell_type": "markdown",
   "metadata": {},
   "source": [
    "# Layer Norm"
   ]
  },
  {
   "cell_type": "code",
   "execution_count": 4,
   "metadata": {},
   "outputs": [],
   "source": [
    "class layer_norm(nn.Module):\n",
    "    def __init__(self,n_f,eps=1e-9):\n",
    "        super().__init__()\n",
    "        self.eps = eps\n",
    "        self.gamma = nn.Parameter(torch.ones(n_f))\n",
    "        self.beta = nn.Parameter(torch.zeros(n_f))\n",
    "    \n",
    "    def forward(self,inputs):\n",
    "        mean = torch.mean(inputs,-1,keepdim=True)\n",
    "        std = torch.mean(inputs,-1,keepdim=True)\n",
    "        nm = (inputs - mean)/(std + self.eps)\n",
    "        return (nm * self.gamma) + self.beta"
   ]
  },
  {
   "cell_type": "markdown",
   "metadata": {},
   "source": [
    "### Testing"
   ]
  },
  {
   "cell_type": "code",
   "execution_count": 5,
   "metadata": {},
   "outputs": [
    {
     "data": {
      "text/plain": [
       "torch.Size([64, 20, 512])"
      ]
     },
     "execution_count": 5,
     "metadata": {},
     "output_type": "execute_result"
    }
   ],
   "source": [
    "a = torch.FloatTensor(64,20,512)\n",
    "model = layer_norm(a.size()[2])\n",
    "c = model(a)\n",
    "c.size()"
   ]
  },
  {
   "cell_type": "markdown",
   "metadata": {},
   "source": [
    "# Scaled Dot Product Attention"
   ]
  },
  {
   "cell_type": "code",
   "execution_count": 6,
   "metadata": {},
   "outputs": [],
   "source": [
    "class scaled_dot_product_attention(nn.Module):\n",
    "    def __init__(self,dk=dk,dv=dv): # multi = True tells if the input to the layer will be multi headed or not\n",
    "        super().__init__()\n",
    "        self.dk = dk\n",
    "        self.dv = dv\n",
    "        \n",
    "    def forward(self,q,k,v):\n",
    "        return torch.matmul(F.softmax(torch.matmul(q,k.permute(0,2,1))/math.sqrt(self.dk),2),v)     \n",
    "        "
   ]
  },
  {
   "cell_type": "markdown",
   "metadata": {},
   "source": [
    "### Testing"
   ]
  },
  {
   "cell_type": "code",
   "execution_count": 7,
   "metadata": {},
   "outputs": [
    {
     "data": {
      "text/plain": [
       "torch.Size([64, 20, 64])"
      ]
     },
     "execution_count": 7,
     "metadata": {},
     "output_type": "execute_result"
    }
   ],
   "source": [
    "a = torch.FloatTensor(64,20,64)\n",
    "model = scaled_dot_product_attention()\n",
    "out = model(a,a,a)\n",
    "out.size()"
   ]
  },
  {
   "cell_type": "markdown",
   "metadata": {},
   "source": [
    "##  Utility module"
   ]
  },
  {
   "cell_type": "code",
   "execution_count": 8,
   "metadata": {},
   "outputs": [],
   "source": [
    "# utility module\n",
    "\n",
    "class linear_activated(nn.Module):\n",
    "    def __init__(self,in_out, activation = nn.ReLU, split = None):\n",
    "        super().__init__()\n",
    "        self.linear = nn.Linear(*in_out)\n",
    "        self.activation = activation()\n",
    "        self.split = split\n",
    "        \n",
    "    def forward(self,inputs):\n",
    "        if self.split is not None:\n",
    "            return self.activation(self.linear(inputs)).chunk(self.split,dim=2)\n",
    "        else:\n",
    "            return self.activation(self.linear(inputs))\n",
    "        "
   ]
  },
  {
   "cell_type": "code",
   "execution_count": 9,
   "metadata": {},
   "outputs": [
    {
     "data": {
      "text/plain": [
       "torch.Size([64, 20, 64])"
      ]
     },
     "execution_count": 9,
     "metadata": {},
     "output_type": "execute_result"
    }
   ],
   "source": [
    "a = torch.FloatTensor(64,20,512)\n",
    "model = linear_activated((512,64))\n",
    "c = model(a)\n",
    "c.size()"
   ]
  },
  {
   "cell_type": "code",
   "execution_count": 10,
   "metadata": {},
   "outputs": [
    {
     "name": "stdout",
     "output_type": "stream",
     "text": [
      "torch.Size([64, 20, 512])\n",
      "torch.Size([64, 20, 512])\n",
      "torch.Size([64, 20, 512])\n"
     ]
    }
   ],
   "source": [
    "a = torch.FloatTensor(64,20,512)\n",
    "model = linear_activated((512,512 * 3),split=3)\n",
    "c = model(a)\n",
    "for i in c: print(i.size())"
   ]
  },
  {
   "cell_type": "markdown",
   "metadata": {},
   "source": [
    "# Multi-head attention"
   ]
  },
  {
   "cell_type": "code",
   "execution_count": 11,
   "metadata": {},
   "outputs": [],
   "source": [
    "class multi_head_attention(nn.Module):\n",
    "    \n",
    "    def __init__(self,h=h, dmodel=dmodel, dk=dk, dv=dv, self_attention=False, masked = False):\n",
    "        super().__init__()\n",
    "        self.self_attention = self_attention\n",
    "        # TODO\n",
    "        self.masked = masked\n",
    "        \n",
    "        # method 1 : when dk = dv, and k = v\n",
    "        # calculate projection of query, key and value at the same time\n",
    "        if self_attention == True:\n",
    "            self.linear_kqv = linear_activated((dmodel,dk * h * 3),split=3) \n",
    "        else:            \n",
    "            # method 2\n",
    "            # second dimension is multiplied by h to calculate all head simultaneously\n",
    "            self.linear_k = linear_activated((dmodel,dk * h)) \n",
    "            self.linear_q = linear_activated((dmodel,dk * h))\n",
    "            self.linear_v = linear_activated((dmodel,dv * h))\n",
    "            \n",
    "        self.linear_o = linear_activated((h*dv,dmodel))\n",
    "        self.sdpa = scaled_dot_product_attention(dk*h,dv*h)\n",
    "        \n",
    "    def forward(self,q,k,v):\n",
    "        if self.self_attention:\n",
    "            out_sdpa_multi_head = self.sdpa(*self.linear_kqv(k))\n",
    "        else:\n",
    "            out_sdpa_multi_head = self.sdpa(self.linear_k(k),self.linear_q(q),self.linear_v(v))\n",
    "        return self.linear_o(out_sdpa_multi_head)"
   ]
  },
  {
   "cell_type": "markdown",
   "metadata": {},
   "source": [
    "### Testing"
   ]
  },
  {
   "cell_type": "code",
   "execution_count": 12,
   "metadata": {},
   "outputs": [
    {
     "data": {
      "text/plain": [
       "torch.Size([64, 20, 512])"
      ]
     },
     "execution_count": 12,
     "metadata": {},
     "output_type": "execute_result"
    }
   ],
   "source": [
    "a = torch.FloatTensor(64,20,512)\n",
    "model = multi_head_attention()\n",
    "c = model(a,a,a)\n",
    "c.size()"
   ]
  },
  {
   "cell_type": "code",
   "execution_count": 13,
   "metadata": {},
   "outputs": [
    {
     "data": {
      "text/plain": [
       "torch.Size([64, 20, 512])"
      ]
     },
     "execution_count": 13,
     "metadata": {},
     "output_type": "execute_result"
    }
   ],
   "source": [
    "a = torch.FloatTensor(64,20,512)\n",
    "model = multi_head_attention(self_attention=True)\n",
    "c = model(a,a,a)\n",
    "c.size()"
   ]
  },
  {
   "cell_type": "markdown",
   "metadata": {},
   "source": [
    "# position-wise feedforward (over exaggerated name)"
   ]
  },
  {
   "cell_type": "code",
   "execution_count": 14,
   "metadata": {},
   "outputs": [],
   "source": [
    "def get_ffn(dmodel,dff):\n",
    "    return nn.Sequential(\n",
    "        linear_activated((dmodel,dff)),\n",
    "        nn.Linear(dff,dmodel)\n",
    "        )"
   ]
  },
  {
   "cell_type": "markdown",
   "metadata": {},
   "source": [
    "### Testing"
   ]
  },
  {
   "cell_type": "code",
   "execution_count": 15,
   "metadata": {},
   "outputs": [
    {
     "data": {
      "text/plain": [
       "torch.Size([64, 20, 512])"
      ]
     },
     "execution_count": 15,
     "metadata": {},
     "output_type": "execute_result"
    }
   ],
   "source": [
    "a = torch.FloatTensor(64,20,512)\n",
    "ffn = get_ffn(dmodel,dff)\n",
    "c = ffn(a)\n",
    "c.size()"
   ]
  },
  {
   "cell_type": "markdown",
   "metadata": {},
   "source": [
    "# Embedding layer (tied weights) "
   ]
  },
  {
   "cell_type": "code",
   "execution_count": 266,
   "metadata": {},
   "outputs": [],
   "source": [
    "class embedding_linear(nn.Module):\n",
    "    def  __init__(self,vocab_size, dmodel=dmodel, pad=True):\n",
    "        '''\n",
    "        Tied weights for decoder embedding layer and pre-softmax linear layer.\n",
    "        \n",
    "        vocab_size: size of vocabulary used. It may be different for both source and target\n",
    "        dmodel: dimension of the word vector\n",
    "        pad: the pad index in the vocabulary\n",
    "        '''\n",
    "        super(embedding_linear,self).__init__()\n",
    "        self.dmodel = dmodel\n",
    "        self.weights = nn.Parameter(torch.Tensor(vocab_size,dmodel))\n",
    "        self.bias = nn.Parameter(torch.Tensor(vocab_size))\n",
    "        nn.init.xavier_normal_(self.weights.data)\n",
    "        if pad:\n",
    "            self.pad_idx = 0\n",
    "            self.weights.data[0].fill_(0)\n",
    "        else:\n",
    "            self.pad_idx = -1\n",
    "        \n",
    "        \n",
    "    def forward(self, inputs, emb=True):\n",
    "        if emb:\n",
    "            outputs = F.embedding(inputs, self.weights * (self.dmodel ** 0.5), self.pad_idx, None,2, False, False)\n",
    "        else:\n",
    "            outputs = F.linear(inputs,self.weights,self.bias)\n",
    "        return outputs\n",
    "            \n",
    "        "
   ]
  },
  {
   "cell_type": "markdown",
   "metadata": {},
   "source": [
    "###  testing Embedding"
   ]
  },
  {
   "cell_type": "code",
   "execution_count": 236,
   "metadata": {},
   "outputs": [
    {
     "data": {
      "text/plain": [
       "tensor([[ 0.0000,  0.0000,  0.0000,  ...,  0.0000,  0.0000,  0.0000],\n",
       "        [ 0.0539, -0.7406,  0.1429,  ...,  0.0678, -0.0039,  0.5759],\n",
       "        [ 0.1810,  0.1908, -0.3003,  ...,  0.3158, -0.2361,  0.1283],\n",
       "        [-0.4249,  0.4624, -0.0614,  ...,  0.0817, -0.1806,  0.0047]])"
      ]
     },
     "execution_count": 236,
     "metadata": {},
     "output_type": "execute_result"
    }
   ],
   "source": [
    "a = torch.tensor([0,1,2,10])\n",
    "emb_lin = embedding_linear(vocab_size_source)\n",
    "c = emb_lin(a)\n",
    "c"
   ]
  },
  {
   "cell_type": "markdown",
   "metadata": {},
   "source": [
    "###  Testing Linear"
   ]
  },
  {
   "cell_type": "code",
   "execution_count": 267,
   "metadata": {},
   "outputs": [
    {
     "data": {
      "text/plain": [
       "torch.Size([1, 10871])"
      ]
     },
     "execution_count": 267,
     "metadata": {},
     "output_type": "execute_result"
    }
   ],
   "source": [
    "a = torch.Tensor(1,512)\n",
    "emb_lin = embedding_linear(vocab_size_source)\n",
    "c = emb_lin(a,emb=False)\n",
    "c.size()"
   ]
  },
  {
   "cell_type": "code",
   "execution_count": null,
   "metadata": {},
   "outputs": [],
   "source": []
  },
  {
   "cell_type": "code",
   "execution_count": null,
   "metadata": {},
   "outputs": [],
   "source": []
  }
 ],
 "metadata": {
  "kernelspec": {
   "display_name": "Python (torch04)",
   "language": "python",
   "name": "myenv"
  },
  "language_info": {
   "codemirror_mode": {
    "name": "ipython",
    "version": 3
   },
   "file_extension": ".py",
   "mimetype": "text/x-python",
   "name": "python",
   "nbconvert_exporter": "python",
   "pygments_lexer": "ipython3",
   "version": "3.6.3"
  }
 },
 "nbformat": 4,
 "nbformat_minor": 2
}
