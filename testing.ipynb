{
 "cells": [
  {
   "cell_type": "code",
   "execution_count": 18,
   "metadata": {},
   "outputs": [],
   "source": [
    "import spacy\n",
    "from spacy.pipeline import Pipe\n",
    "\n",
    "en = spacy.load('en')\n",
    "de = spacy.load('de')\n",
    "\n",
    "file_name = './dataset/de-en/train.tags.de-en.en'"
   ]
  },
  {
   "cell_type": "code",
   "execution_count": 19,
   "metadata": {},
   "outputs": [],
   "source": [
    "# len(text.split())`"
   ]
  },
  {
   "cell_type": "code",
   "execution_count": 22,
   "metadata": {
    "scrolled": false
   },
   "outputs": [],
   "source": [
    "with open(file_name) as f:\n",
    "    text = f.read()\n",
    "#     temp = text[500:5000]\n",
    "    doc = en.tokenizer(text)\n"
   ]
  },
  {
   "cell_type": "code",
   "execution_count": 24,
   "metadata": {},
   "outputs": [],
   "source": [
    "from collections import Counter"
   ]
  },
  {
   "cell_type": "code",
   "execution_count": 25,
   "metadata": {},
   "outputs": [],
   "source": []
  },
  {
   "cell_type": "code",
   "execution_count": 34,
   "metadata": {},
   "outputs": [],
   "source": [
    "tokenized = [str(i) for i in list(doc)]"
   ]
  },
  {
   "cell_type": "code",
   "execution_count": 36,
   "metadata": {},
   "outputs": [
    {
     "data": {
      "text/plain": [
       "True"
      ]
     },
     "execution_count": 36,
     "metadata": {},
     "output_type": "execute_result"
    }
   ],
   "source": [
    "len(tokenized) == len(list(doc))"
   ]
  },
  {
   "cell_type": "code",
   "execution_count": 37,
   "metadata": {},
   "outputs": [
    {
     "data": {
      "text/plain": [
       "12989"
      ]
     },
     "execution_count": 37,
     "metadata": {},
     "output_type": "execute_result"
    }
   ],
   "source": [
    "tokenized.count('<')"
   ]
  },
  {
   "cell_type": "code",
   "execution_count": 38,
   "metadata": {},
   "outputs": [],
   "source": [
    "cnt = Counter(tokenized)"
   ]
  },
  {
   "cell_type": "code",
   "execution_count": 40,
   "metadata": {},
   "outputs": [
    {
     "data": {
      "text/plain": [
       "66912"
      ]
     },
     "execution_count": 40,
     "metadata": {},
     "output_type": "execute_result"
    }
   ],
   "source": [
    "len(cnt)"
   ]
  },
  {
   "cell_type": "code",
   "execution_count": 41,
   "metadata": {},
   "outputs": [
    {
     "ename": "NameError",
     "evalue": "name 'unicode' is not defined",
     "output_type": "error",
     "traceback": [
      "\u001b[0;31m---------------------------------------------------------------------------\u001b[0m",
      "\u001b[0;31mNameError\u001b[0m                                 Traceback (most recent call last)",
      "\u001b[0;32m<ipython-input-41-9d53135f39f5>\u001b[0m in \u001b[0;36m<module>\u001b[0;34m()\u001b[0m\n\u001b[0;32m----> 1\u001b[0;31m \u001b[0municode\u001b[0m\u001b[0;34m\u001b[0m\u001b[0m\n\u001b[0m",
      "\u001b[0;31mNameError\u001b[0m: name 'unicode' is not defined"
     ]
    }
   ],
   "source": [
    "unicode"
   ]
  },
  {
   "cell_type": "code",
   "execution_count": 34,
   "metadata": {},
   "outputs": [
    {
     "ename": "NameError",
     "evalue": "name 'unicode' is not defined",
     "output_type": "error",
     "traceback": [
      "\u001b[0;31m---------------------------------------------------------------------------\u001b[0m",
      "\u001b[0;31mNameError\u001b[0m                                 Traceback (most recent call last)",
      "\u001b[0;32m<ipython-input-34-2265fa220d62>\u001b[0m in \u001b[0;36m<module>\u001b[0;34m()\u001b[0m\n\u001b[1;32m      1\u001b[0m \u001b[0;32mwith\u001b[0m \u001b[0mopen\u001b[0m\u001b[0;34m(\u001b[0m\u001b[0mfile_name\u001b[0m\u001b[0;34m)\u001b[0m \u001b[0;32mas\u001b[0m \u001b[0mf\u001b[0m\u001b[0;34m:\u001b[0m\u001b[0;34m\u001b[0m\u001b[0m\n\u001b[1;32m      2\u001b[0m     \u001b[0mtext\u001b[0m \u001b[0;34m=\u001b[0m \u001b[0mf\u001b[0m\u001b[0;34m.\u001b[0m\u001b[0mread\u001b[0m\u001b[0;34m(\u001b[0m\u001b[0;34m)\u001b[0m\u001b[0;34m\u001b[0m\u001b[0m\n\u001b[0;32m----> 3\u001b[0;31m     \u001b[0mprint\u001b[0m\u001b[0;34m(\u001b[0m\u001b[0mtype\u001b[0m\u001b[0;34m(\u001b[0m\u001b[0municode\u001b[0m\u001b[0;34m(\u001b[0m\u001b[0mtext\u001b[0m\u001b[0;34m)\u001b[0m\u001b[0;34m)\u001b[0m\u001b[0;34m)\u001b[0m\u001b[0;34m\u001b[0m\u001b[0m\n\u001b[0m\u001b[1;32m      4\u001b[0m \u001b[0;31m#     temp = text[500:1000]\u001b[0m\u001b[0;34m\u001b[0m\u001b[0;34m\u001b[0m\u001b[0m\n\u001b[1;32m      5\u001b[0m \u001b[0;31m#     for doc in en.pipe(text[500:],n_threads=-1,batch_size=1000):\u001b[0m\u001b[0;34m\u001b[0m\u001b[0;34m\u001b[0m\u001b[0m\n",
      "\u001b[0;31mNameError\u001b[0m: name 'unicode' is not defined"
     ]
    }
   ],
   "source": [
    "with open(file_name) as f:\n",
    "    text = f.read()\n",
    "    print(type(unicode(text)))\n",
    "#     temp = text[500:1000]\n",
    "#     for doc in en.pipe(text[500:],n_threads=-1,batch_size=1000):\n",
    "#         print(text[500:1500])\n",
    "#         print(\"doc\",doc)\n",
    "#         print(list(doc))\n",
    "#         break`\n",
    "    \n"
   ]
  },
  {
   "cell_type": "code",
   "execution_count": 20,
   "metadata": {},
   "outputs": [
    {
     "data": {
      "text/plain": [
       "[ ,\n",
       " ridges,\n",
       " of,\n",
       " the,\n",
       " oceans,\n",
       " ',\n",
       " depths,\n",
       " ,,\n",
       " where,\n",
       " life,\n",
       " is,\n",
       " bizarre,\n",
       " ,,\n",
       " resilient,\n",
       " and,\n",
       " shockingly,\n",
       " abundant.</description,\n",
       " >,\n",
       " ,\n",
       " David,\n",
       " Gallo,\n",
       " :,\n",
       " This,\n",
       " is,\n",
       " Bill,\n",
       " Lange,\n",
       " .,\n",
       " I,\n",
       " 'm,\n",
       " Dave,\n",
       " Gallo,\n",
       " .,\n",
       " ,\n",
       " And,\n",
       " we,\n",
       " 're,\n",
       " going,\n",
       " to,\n",
       " tell,\n",
       " you,\n",
       " some,\n",
       " stories,\n",
       " from,\n",
       " the,\n",
       " sea,\n",
       " here,\n",
       " in,\n",
       " video,\n",
       " .,\n",
       " ,\n",
       " We,\n",
       " 've,\n",
       " got,\n",
       " some,\n",
       " of,\n",
       " the,\n",
       " most,\n",
       " incredible,\n",
       " video,\n",
       " of,\n",
       " Titanic,\n",
       " that,\n",
       " 's,\n",
       " ever,\n",
       " been,\n",
       " seen,\n",
       " ,,\n",
       " and,\n",
       " we,\n",
       " 're,\n",
       " not,\n",
       " going,\n",
       " to,\n",
       " show,\n",
       " you,\n",
       " any,\n",
       " of,\n",
       " it,\n",
       " .,\n",
       " ,\n",
       " The,\n",
       " truth,\n",
       " of,\n",
       " the,\n",
       " matter,\n",
       " is,\n",
       " that,\n",
       " the,\n",
       " Titanic,\n",
       " --,\n",
       " even,\n",
       " though,\n",
       " it,\n",
       " 's,\n",
       " breaking,\n",
       " all,\n",
       " sorts,\n",
       " of,\n",
       " box,\n",
       " office,\n",
       " records,\n",
       " --,\n",
       " it,\n",
       " 's,\n",
       " not,\n",
       " the,\n",
       " most,\n",
       " exciting,\n",
       " story,\n",
       " from,\n",
       " the,\n",
       " sea,\n",
       " .,\n",
       " ,\n",
       " And]"
      ]
     },
     "execution_count": 20,
     "metadata": {},
     "output_type": "execute_result"
    }
   ],
   "source": [
    "list(doc)"
   ]
  },
  {
   "cell_type": "code",
   "execution_count": null,
   "metadata": {
    "collapsed": true
   },
   "outputs": [],
   "source": []
  }
 ],
 "metadata": {
  "kernelspec": {
   "display_name": "Environment (conda_my_root)",
   "language": "python",
   "name": "conda_my_root"
  },
  "language_info": {
   "codemirror_mode": {
    "name": "ipython",
    "version": 3
   },
   "file_extension": ".py",
   "mimetype": "text/x-python",
   "name": "python",
   "nbconvert_exporter": "python",
   "pygments_lexer": "ipython3",
   "version": "3.6.3"
  }
 },
 "nbformat": 4,
 "nbformat_minor": 2
}
